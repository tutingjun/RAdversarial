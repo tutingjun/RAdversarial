{
 "cells": [
  {
   "cell_type": "markdown",
   "metadata": {},
   "source": [
    "# Experiment Result Analysis\n"
   ]
  },
  {
   "cell_type": "code",
   "execution_count": null,
   "metadata": {},
   "outputs": [],
   "source": [
    "import json\n",
    "from defines import EVAL_PATH, IMAGE_PATH, DATASET_PATH\n",
    "\n",
    "from PIL import Image"
   ]
  },
  {
   "cell_type": "code",
   "execution_count": null,
   "metadata": {},
   "outputs": [],
   "source": [
    "def eval_result(eval_dir, method_name, t = 5, grid_size = 5, top = None):\n",
    "    print(\"{}: \".format(method_name))\n",
    "    success = []\n",
    "    failed = []\n",
    "    total_exp = 0\n",
    "    with open(f'{eval_dir}/{method_name}_exp.json') as f:\n",
    "        results = json.load(f)\n",
    "        results = results[:top] if top != None else results\n",
    "        total_exp = len(results)\n",
    "        for res in results:\n",
    "            true_label = res[\"true_label_idx\"]\n",
    "            perturbed_label = res[\"perturbed_topk_indices\"][0]\n",
    "            if true_label == perturbed_label:\n",
    "                failed.append(res)\n",
    "            else:\n",
    "                success.append(res)\n",
    "\n",
    "    num_success = len(success)\n",
    "    success_rate = num_success / total_exp\n",
    "    print(\"Success: {}, Failed: {}, Total: {}\".format(num_success, len(failed), num_success+len(failed)))\n",
    "\n",
    "    total_conf = 0.0\n",
    "    total_pixels = 0\n",
    "    for exp in success:\n",
    "        num_pixel = (exp[\"num_iteration\"]+1) * t * (grid_size ** 2)\n",
    "        perturbed_prob = exp[\"perturbed_topk_probabilities\"][0]\n",
    "        total_conf += perturbed_prob\n",
    "        total_pixels += num_pixel\n",
    "\n",
    "    avg_pixels = total_pixels/num_success\n",
    "    \n",
    "    print(\"Success Rate: {:.5f}\\nConf: {:.5f}\\nAvg Percentage Pixels Perturbed: {:.5f}\\n\".format(success_rate, total_conf/num_success, avg_pixels/(256*256)))\n",
    "    \n",
    "    return success, failed"
   ]
  },
  {
   "cell_type": "code",
   "execution_count": null,
   "metadata": {},
   "outputs": [],
   "source": [
    "success, failed = eval_result(method_name = \"LocSearchAdv\", eval_dir = f\"{EVAL_PATH}/LocSearchAdv\")"
   ]
  },
  {
   "cell_type": "code",
   "execution_count": null,
   "metadata": {},
   "outputs": [],
   "source": [
    "item = success[90]\n",
    "\n",
    "org_name = item[\"input_name\"]\n",
    "perturbed_name = \"perturbed_\" + item[\"input_name\"]+\".png\"\n",
    "img_dir = f\"{IMAGE_PATH}/LocSearchAdv\"\n",
    "image_folder = f\"{DATASET_PATH}/images\"\n",
    "\n",
    "perturbed_image = Image.open(f\"{img_dir}/{perturbed_name}\")\n",
    "org_img = Image.open(f\"{image_folder}/{org_name}\")\n",
    "\n",
    "display(perturbed_image)\n",
    "display(org_img)\n",
    "\n",
    "item"
   ]
  }
 ],
 "metadata": {
  "kernelspec": {
   "display_name": "venv",
   "language": "python",
   "name": "python3"
  },
  "language_info": {
   "codemirror_mode": {
    "name": "ipython",
    "version": 3
   },
   "file_extension": ".py",
   "mimetype": "text/x-python",
   "name": "python",
   "nbconvert_exporter": "python",
   "pygments_lexer": "ipython3",
   "version": "3.10.12"
  }
 },
 "nbformat": 4,
 "nbformat_minor": 2
}

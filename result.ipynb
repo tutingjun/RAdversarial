{
 "cells": [
  {
   "cell_type": "markdown",
   "metadata": {},
   "source": [
    "# Experiment Result Analysis\n"
   ]
  },
  {
   "cell_type": "code",
   "execution_count": 8,
   "metadata": {},
   "outputs": [],
   "source": [
    "import json\n",
    "from defines import EVAL_PATH"
   ]
  },
  {
   "cell_type": "code",
   "execution_count": 9,
   "metadata": {},
   "outputs": [],
   "source": [
    "method_name = \"LocSearchAdv\"\n",
    "eval_dir = f\"{EVAL_PATH}/{method_name}\""
   ]
  },
  {
   "cell_type": "code",
   "execution_count": 10,
   "metadata": {},
   "outputs": [],
   "source": [
    "success = []\n",
    "failed = []\n",
    "total_exp = 0\n",
    "with open(f'{eval_dir}/{method_name}_exp.json') as f:\n",
    "    results = json.load(f)\n",
    "    total_exp = len(results)\n",
    "    for res in results:\n",
    "        true_label = res[\"true_label_idx\"]\n",
    "        perturbed_label = res[\"perturbed_topk_indices\"][0]\n",
    "        if true_label == perturbed_label:\n",
    "            failed.append(res)\n",
    "        else:\n",
    "            success.append(res)"
   ]
  },
  {
   "cell_type": "code",
   "execution_count": 11,
   "metadata": {},
   "outputs": [
    {
     "name": "stdout",
     "output_type": "stream",
     "text": [
      "Success Rate: 0.56\n",
      "Conf: 0.3153872308986528\n"
     ]
    }
   ],
   "source": [
    "num_success = len(success)\n",
    "success_rate = num_success / total_exp\n",
    "\n",
    "total = 0.0\n",
    "for exp in success:\n",
    "    perturbed_prob = exp[\"perturbed_topk_probabilities\"][0]\n",
    "    total += perturbed_prob\n",
    "\n",
    "print(\"Success Rate: {}\\nConf: {}\".format(success_rate, total/num_success))"
   ]
  }
 ],
 "metadata": {
  "kernelspec": {
   "display_name": "venv",
   "language": "python",
   "name": "python3"
  },
  "language_info": {
   "codemirror_mode": {
    "name": "ipython",
    "version": 3
   },
   "file_extension": ".py",
   "mimetype": "text/x-python",
   "name": "python",
   "nbconvert_exporter": "python",
   "pygments_lexer": "ipython3",
   "version": "3.10.12"
  }
 },
 "nbformat": 4,
 "nbformat_minor": 2
}

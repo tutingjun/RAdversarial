{
 "cells": [
  {
   "cell_type": "markdown",
   "metadata": {},
   "source": [
    "# Experiment Result Analysis\n"
   ]
  },
  {
   "cell_type": "code",
   "execution_count": 7,
   "metadata": {},
   "outputs": [],
   "source": [
    "import json\n",
    "from defines import EVAL_PATH"
   ]
  },
  {
   "cell_type": "code",
   "execution_count": 8,
   "metadata": {},
   "outputs": [],
   "source": [
    "def eval_result(eval_dir, method_name, t = 5, grid_size = 5, top = None):\n",
    "    print(\"{}: \".format(method_name))\n",
    "    success = []\n",
    "    failed = []\n",
    "    total_exp = 0\n",
    "    with open(f'{eval_dir}/{method_name}_exp.json') as f:\n",
    "        results = json.load(f)\n",
    "        results = results[:top] if top != None else results\n",
    "        total_exp = len(results)\n",
    "        for res in results:\n",
    "            true_label = res[\"true_label_idx\"]\n",
    "            perturbed_label = res[\"perturbed_topk_indices\"][0]\n",
    "            if true_label == perturbed_label:\n",
    "                failed.append(res)\n",
    "            else:\n",
    "                success.append(res)\n",
    "\n",
    "    num_success = len(success)\n",
    "    success_rate = num_success / total_exp\n",
    "    print(\"Success: {}, Failed: {}, Total: {}\".format(num_success, len(failed), num_success+len(failed)))\n",
    "\n",
    "    total_conf = 0.0\n",
    "    total_pixels = 0\n",
    "    for exp in success:\n",
    "        num_pixel = (exp[\"num_iteration\"]+1) * t * (grid_size ** 2)\n",
    "        perturbed_prob = exp[\"perturbed_topk_probabilities\"][0]\n",
    "        total_conf += perturbed_prob\n",
    "        total_pixels += num_pixel\n",
    "\n",
    "    avg_pixels = total_pixels/num_success\n",
    "\n",
    "    print(\"Success Rate: {:.5f}\\nConf: {:.5f}\\nAvg Percentage Pixels Perturbed: {:.5f}\\n\".format(success_rate, total_conf/num_success, avg_pixels/(256*256)))"
   ]
  },
  {
   "cell_type": "code",
   "execution_count": 9,
   "metadata": {},
   "outputs": [
    {
     "name": "stdout",
     "output_type": "stream",
     "text": [
      "LocSearchAdv_NoPixelIgnore: \n",
      "Success: 82, Failed: 18, Total: 100\n",
      "Success Rate: 0.82000\n",
      "Conf: 0.30312\n",
      "Avg Percentage Pixels Perturbed: 0.07688\n",
      "\n",
      "LocSearchAdv_30: \n",
      "Success: 84, Failed: 17, Total: 101\n",
      "Success Rate: 0.83168\n",
      "Conf: 0.30110\n",
      "Avg Percentage Pixels Perturbed: 0.07243\n",
      "\n"
     ]
    }
   ],
   "source": [
    "eval_result(method_name = \"LocSearchAdv_NoPixelIgnore\", eval_dir = f\"{EVAL_PATH}/LocSearchAdv_NoPixelIgnore\")\n",
    "eval_result(method_name = \"LocSearchAdv_30\", eval_dir = f\"{EVAL_PATH}/LocSearchAdv_30\")"
   ]
  },
  {
   "cell_type": "code",
   "execution_count": 10,
   "metadata": {},
   "outputs": [
    {
     "name": "stdout",
     "output_type": "stream",
     "text": [
      "LocSearchAdv_10: \n",
      "Success: 42, Failed: 8, Total: 50\n",
      "Success Rate: 0.84000\n",
      "Conf: 0.31965\n",
      "Avg Percentage Pixels Perturbed: 0.06794\n",
      "\n",
      "LocSearchAdv_50: \n",
      "Success: 42, Failed: 8, Total: 50\n",
      "Success Rate: 0.84000\n",
      "Conf: 0.31082\n",
      "Avg Percentage Pixels Perturbed: 0.07012\n",
      "\n",
      "LocSearchAdv_100: \n",
      "Success: 41, Failed: 9, Total: 50\n",
      "Success Rate: 0.82000\n",
      "Conf: 0.32010\n",
      "Avg Percentage Pixels Perturbed: 0.07629\n",
      "\n"
     ]
    }
   ],
   "source": [
    "eval_result(method_name = \"LocSearchAdv_10\", eval_dir = f\"{EVAL_PATH}/LocSearchAdv_10\")\n",
    "eval_result(method_name = \"LocSearchAdv_50\", eval_dir = f\"{EVAL_PATH}/LocSearchAdv_50\")\n",
    "eval_result(method_name = \"LocSearchAdv_100\", eval_dir = f\"{EVAL_PATH}/LocSearchAdv_100\")\n"
   ]
  },
  {
   "cell_type": "code",
   "execution_count": 11,
   "metadata": {},
   "outputs": [
    {
     "name": "stdout",
     "output_type": "stream",
     "text": [
      "LocSearchAdv_30: \n",
      "Success: 84, Failed: 17, Total: 101\n",
      "Success Rate: 0.83168\n",
      "Conf: 0.30110\n",
      "Avg Percentage Pixels Perturbed: 0.07243\n",
      "\n"
     ]
    }
   ],
   "source": [
    "eval_result(method_name = \"LocSearchAdv_30\", eval_dir = f\"{EVAL_PATH}/LocSearchAdv_30\")\n"
   ]
  },
  {
   "cell_type": "code",
   "execution_count": 12,
   "metadata": {},
   "outputs": [
    {
     "name": "stdout",
     "output_type": "stream",
     "text": [
      "LocSearchAdv: \n",
      "Success: 795, Failed: 205, Total: 1000\n",
      "Success Rate: 0.79500\n",
      "Conf: 0.30090\n",
      "Avg Percentage Pixels Perturbed: 0.07883\n",
      "\n"
     ]
    }
   ],
   "source": [
    "eval_result(method_name = \"LocSearchAdv\", eval_dir = f\"{EVAL_PATH}/LocSearchAdv\")"
   ]
  }
 ],
 "metadata": {
  "kernelspec": {
   "display_name": "venv",
   "language": "python",
   "name": "python3"
  },
  "language_info": {
   "codemirror_mode": {
    "name": "ipython",
    "version": 3
   },
   "file_extension": ".py",
   "mimetype": "text/x-python",
   "name": "python",
   "nbconvert_exporter": "python",
   "pygments_lexer": "ipython3",
   "version": "3.10.12"
  }
 },
 "nbformat": 4,
 "nbformat_minor": 2
}
